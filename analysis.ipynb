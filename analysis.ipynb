{
 "cells": [
  {
   "cell_type": "code",
   "execution_count": 103,
   "metadata": {},
   "outputs": [],
   "source": [
    "from collections import defaultdict\n",
    "import json\n",
    "import os\n",
    "\n",
    "ARCHIVE_DIR = './archive-Fall2019/'"
   ]
  },
  {
   "cell_type": "code",
   "execution_count": 106,
   "metadata": {},
   "outputs": [
    {
     "name": "stdout",
     "output_type": "stream",
     "text": [
      "Cached data from every date.\n",
      "Put all classes into a dictionary by call number.\n",
      "Indexed all courses by both date and call number.\n"
     ]
    }
   ],
   "source": [
    "classes = {}\n",
    "section_stores = {}\n",
    "fnames = [ARCHIVE_DIR + f for f in sorted(os.listdir(ARCHIVE_DIR)) if '.json' in f]\n",
    "\n",
    "for fname in fnames:\n",
    "    sections = json.load(open(fname))\n",
    "    section_stores[fname] = {s['Call Number']: s for s in sections}\n",
    "    for section in sections:\n",
    "        classes[section['Call Number']] = []\n",
    "print('Cached data from every date.')\n",
    "\n",
    "for fname in fnames:\n",
    "    sections = section_stores[fname]\n",
    "    for call_num in classes.keys():\n",
    "        classes[call_num].append( sections.get(call_num, None) )\n",
    "print('Put all classes into a dictionary by call number.')\n",
    "\n",
    "courses_indexed = defaultdict(dict)\n",
    "for c in courses:\n",
    "    courses_indexed[c['date']][c['Call Number']] = c\n",
    "print('Indexed all courses by both date and call number.')"
   ]
  },
  {
   "cell_type": "code",
   "execution_count": 11,
   "metadata": {},
   "outputs": [],
   "source": [
    "x = json.load(open(ARCHIVE_DIR + f))"
   ]
  },
  {
   "cell_type": "code",
   "execution_count": 67,
   "metadata": {},
   "outputs": [
    {
     "name": "stdout",
     "output_type": "stream",
     "text": [
      "2019-08-31: Added 7860.\n",
      "2019-09-01: Added 7858.\n",
      "2019-09-02: Added 7856.\n",
      "2019-09-03: Added 7898.\n",
      "2019-09-04: Added 7964.\n",
      "2019-09-05: Added 7967.\n",
      "2019-09-06: Added 7998.\n",
      "2019-09-07: Added 7994.\n",
      "2019-09-08: Added 8001.\n",
      "2019-09-09: Added 8017.\n",
      "2019-09-10: Added 8045.\n",
      "2019-09-11: Added 8057.\n",
      "2019-09-12: Added 8092.\n",
      "2019-09-13: Added 8104.\n",
      "2019-09-14: Added 8105.\n",
      "2019-09-15: Added 8105.\n",
      "2019-09-16: Added 8104.\n",
      "2019-09-17: Added 8106.\n"
     ]
    }
   ],
   "source": []
  },
  {
   "cell_type": "code",
   "execution_count": 101,
   "metadata": {
    "scrolled": false
   },
   "outputs": [],
   "source": [
    "added = defaultdict(list)\n",
    "\n",
    "DATE_INDEX = len(dates) - 1\n",
    "\n",
    "for call_num in courses_indexed[dates[DATE_INDEX]].keys():\n",
    "    for date in dates[:DATE_INDEX]:\n",
    "        added[call_num].append(courses_indexed[date].get(call_num, {}))\n",
    "\n",
    "reassigned_calls = []\n",
    "for call_num in added.keys():\n",
    "    courses_instances = added[call_num]\n",
    "\n",
    "    # Has always existed in course system\n",
    "    if any([len(c.keys()) == 0 for c in courses_instances]):\n",
    "        continue\n",
    "\n",
    "    if (any([c.get('Location', None) == 'To be announced' for c in courses_instances]) and\n",
    "        any([c.get('Location', None) != courses_instances[0].get('Location', None) for c in courses_instances])):\n",
    "            reassigned_calls.append(call_num)"
   ]
  },
  {
   "cell_type": "code",
   "execution_count": 102,
   "metadata": {},
   "outputs": [],
   "source": [
    "json.dump(\n",
    "    [c for c in courses if c['Call Number'] in reassigned_calls and c['date'] in dates[:DATE_INDEX]],\n",
    "    open('./reassigned_calls.json', 'w')\n",
    ")"
   ]
  },
  {
   "cell_type": "code",
   "execution_count": 77,
   "metadata": {},
   "outputs": [
    {
     "data": {
      "text/plain": [
       "[{'number': '001',\n",
       "  'Call Number': 53898,\n",
       "  'Points': 3,\n",
       "  'Day/Time': 'TR 1:10pm-2:25pm',\n",
       "  'Location': 'To be announced',\n",
       "  'Enrollment': '49 students (60 max) as of August 31, 2019',\n",
       "  'Instructor': 'Cathy Popkin',\n",
       "  'course': 'LITERATURE & EMPIRE (19C LIT)',\n",
       "  'courseNumber': 'UN3220',\n",
       "  'subject': 'RUSS',\n",
       "  'date': '2019-08-31'},\n",
       " {'number': '001',\n",
       "  'Call Number': 53898,\n",
       "  'Points': 3,\n",
       "  'Day/Time': 'TR 1:10pm-2:25pm',\n",
       "  'Location': 'To be announced',\n",
       "  'Enrollment': '47 students (60 max) as of September  1, 2019',\n",
       "  'Instructor': 'Cathy Popkin',\n",
       "  'course': 'LITERATURE & EMPIRE (19C LIT)',\n",
       "  'courseNumber': 'UN3220',\n",
       "  'subject': 'RUSS',\n",
       "  'date': '2019-09-01'},\n",
       " {'number': '001',\n",
       "  'Call Number': 53898,\n",
       "  'Points': 3,\n",
       "  'Day/Time': 'TR 1:10pm-2:25pm',\n",
       "  'Location': '313 Fayerweather',\n",
       "  'Enrollment': '47 students (60 max) as of September  2, 2019',\n",
       "  'Instructor': 'Cathy Popkin',\n",
       "  'course': 'LITERATURE & EMPIRE (19C LIT)',\n",
       "  'courseNumber': 'UN3220',\n",
       "  'subject': 'RUSS',\n",
       "  'date': '2019-09-02'},\n",
       " {'number': '001',\n",
       "  'Call Number': 53898,\n",
       "  'Points': 3,\n",
       "  'Day/Time': 'TR 1:10pm-2:25pm',\n",
       "  'Location': '313 Fayerweather',\n",
       "  'Enrollment': '42 students (60 max) as of September  3, 2019',\n",
       "  'Instructor': 'Cathy Popkin',\n",
       "  'course': 'LITERATURE & EMPIRE (19C LIT)',\n",
       "  'courseNumber': 'UN3220',\n",
       "  'subject': 'RUSS',\n",
       "  'date': '2019-09-03'}]"
      ]
     },
     "execution_count": 77,
     "metadata": {},
     "output_type": "execute_result"
    }
   ],
   "source": [
    "added[53898]"
   ]
  },
  {
   "cell_type": "code",
   "execution_count": 50,
   "metadata": {},
   "outputs": [
    {
     "data": {
      "text/plain": [
       "{'number': '001',\n",
       " 'Call Number': 14677,\n",
       " 'Points': 3,\n",
       " 'Enrollment': '64 students (73 max) as of August 31, 2019',\n",
       " 'Instructor': 'Trevor S Harris',\n",
       " 'course': 'Accounting I: Financial Accoun',\n",
       " 'courseNumber': 'B5001',\n",
       " 'subject': 'ACCT',\n",
       " 'date': '2019-08-31'}"
      ]
     },
     "execution_count": 50,
     "metadata": {},
     "output_type": "execute_result"
    }
   ],
   "source": [
    "courses[0]"
   ]
  },
  {
   "cell_type": "code",
   "execution_count": 49,
   "metadata": {},
   "outputs": [
    {
     "data": {
      "text/plain": [
       "[]"
      ]
     },
     "execution_count": 49,
     "metadata": {},
     "output_type": "execute_result"
    }
   ],
   "source": [
    "firstday_calls"
   ]
  },
  {
   "cell_type": "code",
   "execution_count": 46,
   "metadata": {
    "scrolled": false
   },
   "outputs": [],
   "source": [
    "json.dump([c for c in courses if c.get('Location', None) is not None], open('courses.json', 'w'))"
   ]
  }
 ],
 "metadata": {
  "kernelspec": {
   "display_name": "Python 3",
   "language": "python",
   "name": "python3"
  },
  "language_info": {
   "codemirror_mode": {
    "name": "ipython",
    "version": 3
   },
   "file_extension": ".py",
   "mimetype": "text/x-python",
   "name": "python",
   "nbconvert_exporter": "python",
   "pygments_lexer": "ipython3",
   "version": "3.7.0"
  }
 },
 "nbformat": 4,
 "nbformat_minor": 2
}
