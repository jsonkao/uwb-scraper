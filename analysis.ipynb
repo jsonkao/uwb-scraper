{
 "cells": [
  {
   "cell_type": "code",
   "execution_count": 1,
   "metadata": {},
   "outputs": [],
   "source": [
    "from collections import defaultdict\n",
    "import json\n",
    "import os\n",
    "\n",
    "ARCHIVE_DIR = './archive-Fall2019/'"
   ]
  },
  {
   "cell_type": "markdown",
   "metadata": {},
   "source": [
    "# Notes\n",
    "\n",
    "* Call numbers with less than 5 digits are meant to have leading zeroes, but I mistakenly turned them into int's in the scraper."
   ]
  },
  {
   "cell_type": "code",
   "execution_count": 3,
   "metadata": {},
   "outputs": [
    {
     "name": "stdout",
     "output_type": "stream",
     "text": [
      "Read in data from 18 dates.\n",
      "Indexed courses by date and call number.\n",
      "Made courses lists by call number.\n"
     ]
    }
   ],
   "source": [
    "courses = []\n",
    "dates = []\n",
    "\n",
    "for d in range(0, 18):\n",
    "    for f in reversed(sorted(os.listdir(ARCHIVE_DIR))):\n",
    "        date = '2019-08-31' if d == 0 else f'2019-09-{d:02d}'\n",
    "        if '.json'in f and date in f:\n",
    "            dates.append(date)\n",
    "            date_courses = json.load(open(ARCHIVE_DIR + f))\n",
    "            for c in date_courses:\n",
    "                c['date'] = date\n",
    "                courses.append(c)\n",
    "            # print(f'{date}: Added {len(date_courses)}.')\n",
    "            break\n",
    "print(f'Read in data from {len(dates)} dates.')\n",
    "\n",
    "courses_indexed = defaultdict(dict)\n",
    "for c in courses:\n",
    "    courses_indexed[c['date']][c['Call Number']] = c\n",
    "print('Indexed courses by date and call number.')\n",
    "\n",
    "courses_lists = {}\n",
    "for call_num in courses_indexed[dates[-1]].keys():\n",
    "    if call_num not in courses_lists:\n",
    "        courses_lists[call_num] = []\n",
    "    for date in dates:\n",
    "        courses_lists[call_num].append(\n",
    "            courses_indexed[date].get(\n",
    "                call_num,\n",
    "                {'Call Number': call_num, 'date': date}\n",
    "            )\n",
    "        )\n",
    "print('Made courses lists by call number.')"
   ]
  },
  {
   "cell_type": "code",
   "execution_count": 4,
   "metadata": {
    "scrolled": false
   },
   "outputs": [],
   "source": [
    "reassigned_calls = []\n",
    "for call_num in courses_lists.keys():\n",
    "    courses_instances = courses_lists[call_num]    \n",
    "    if any(c.get('Location', None) == 'To be announced' for c in courses_instances):\n",
    "        # At some point the course was To be announced    \n",
    "        reassigned_calls.append(call_num)\n",
    "\n",
    "        output = []\n",
    "for call_num in reassigned_calls:\n",
    "    output += courses_lists[call_num]\n",
    "json.dump(output, open('./reassigned_calls.json', 'w'))"
   ]
  },
  {
   "cell_type": "code",
   "execution_count": 190,
   "metadata": {},
   "outputs": [],
   "source": [
    "DATE_S = 13 # '2019-09-01'\n",
    "DATE_E = 14 # '2019-09-02'\n",
    "\n",
    "x = []\n",
    "for call_num in courses_lists.keys():\n",
    "    course_list = courses_lists[call_num]\n",
    "    if course_list[DATE_E].get('Location', None) == 'To be announced':\n",
    "        if course_list[DATE_S].get('Location', None) != course_list[DATE_E].get('Location', None):\n",
    "            x.append(call_num)"
   ]
  }
 ],
 "metadata": {
  "kernelspec": {
   "display_name": "Python 3",
   "language": "python",
   "name": "python3"
  },
  "language_info": {
   "codemirror_mode": {
    "name": "ipython",
    "version": 3
   },
   "file_extension": ".py",
   "mimetype": "text/x-python",
   "name": "python",
   "nbconvert_exporter": "python",
   "pygments_lexer": "ipython3",
   "version": "3.7.0"
  }
 },
 "nbformat": 4,
 "nbformat_minor": 2
}
