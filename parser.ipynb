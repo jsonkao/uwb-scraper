{
 "cells": [
  {
   "cell_type": "code",
   "execution_count": 9,
   "metadata": {},
   "outputs": [],
   "source": [
    "import json\n",
    "import os"
   ]
  },
  {
   "cell_type": "code",
   "execution_count": 14,
   "metadata": {},
   "outputs": [
    {
     "name": "stdout",
     "output_type": "stream",
     "text": [
      "2019-08-31.json ['To be announced']\n",
      "2019-09-01.json ['To be announced']\n",
      "2019-09-02.json ['To be announced']\n",
      "2019-09-02T10:41:13.json ['To be announced']\n",
      "2019-09-02T12:00:46.json ['To be announced']\n",
      "2019-09-02T16:00:54.json ['To be announced']\n",
      "2019-09-02T19:00:47.json ['313 Fayerweather']\n",
      "2019-09-02T21:00:15.json ['313 Fayerweather']\n",
      "2019-09-02T22:00:29.json ['313 Fayerweather']\n",
      "2019-09-02T23:00:14.json ['313 Fayerweather']\n",
      "2019-09-03T09:04:12.json ['313 Fayerweather']\n",
      "2019-09-03T10:01:00.json ['313 Fayerweather']\n",
      "2019-09-03T11:00:19.json ['313 Fayerweather']\n",
      "2019-09-03T12:00:19.json ['313 Fayerweather']\n",
      "2019-09-03T17:00:19.json ['313 Fayerweather']\n",
      "2019-09-03T18:00:16.json ['313 Fayerweather']\n",
      "2019-09-03T19:43:55.json ['313 Fayerweather']\n",
      "2019-09-03T21:00:25.json ['313 Fayerweather']\n",
      "2019-09-03T22:04:17.json ['313 Fayerweather']\n",
      "2019-09-04T00:00:19.json ['313 Fayerweather']\n",
      "2019-09-04T11:00:16.json ['313 Fayerweather']\n",
      "2019-09-04T12:01:09.json ['313 Fayerweather']\n",
      "2019-09-04T16:00:18.json ['313 Fayerweather']\n",
      "2019-09-04T17:00:15.json ['313 Fayerweather']\n",
      "2019-09-04T21:00:17.json ['313 Fayerweather']\n",
      "2019-09-04T23:00:22.json ['313 Fayerweather']\n",
      "2019-09-05T10:00:45.json ['313 Fayerweather']\n",
      "2019-09-05T11:00:20.json ['313 Fayerweather']\n",
      "2019-09-05T17:00:19.json ['313 Fayerweather']\n",
      "2019-09-06T12:07:25.json ['313 Fayerweather']\n",
      "2019-09-06T16:00:52.json ['313 Fayerweather']\n",
      "2019-09-06T17:00:50.json ['313 Fayerweather']\n",
      "2019-09-06T20:00:21.json ['313 Fayerweather']\n",
      "2019-09-06T21:00:16.json ['313 Fayerweather']\n",
      "2019-09-07T00:00:19.json ['313 Fayerweather']\n",
      "2019-09-07T11:00:47.json ['313 Fayerweather']\n",
      "2019-09-07T12:00:39.json ['313 Fayerweather']\n",
      "2019-09-07T18:00:16.json ['313 Fayerweather']\n",
      "2019-09-07T20:00:18.json ['313 Fayerweather']\n",
      "2019-09-07T21:00:19.json ['313 Fayerweather']\n",
      "2019-09-07T22:00:17.json ['313 Fayerweather']\n",
      "2019-09-08T16:00:54.json ['313 Fayerweather']\n",
      "2019-09-08T17:00:19.json ['313 Fayerweather']\n",
      "2019-09-08T18:00:57.json ['313 Fayerweather']\n",
      "2019-09-08T20:00:14.json ['313 Fayerweather']\n",
      "2019-09-08T21:00:17.json ['313 Fayerweather']\n",
      "2019-09-08T22:00:17.json ['313 Fayerweather']\n",
      "2019-09-08T23:00:16.json ['313 Fayerweather']\n",
      "2019-09-09T00:00:18.json ['313 Fayerweather']\n",
      "2019-09-09T09:00:18.json ['313 Fayerweather']\n",
      "2019-09-09T11:00:23.json ['313 Fayerweather']\n",
      "2019-09-09T12:01:31.json ['313 Fayerweather']\n",
      "2019-09-09T13:00:22.json ['313 Fayerweather']\n"
     ]
    }
   ],
   "source": [
    "for f in sorted(os.listdir('./archive-Fall2019/')):\n",
    "    if '.json' not in f:\n",
    "        continue\n",
    "    courses = json.load(open('./archive-Fall2019/' + f))\n",
    "    print(f, [c['Location'] for c in courses if c['Call Number'] == 53898])"
   ]
  },
  {
   "cell_type": "code",
   "execution_count": 4,
   "metadata": {},
   "outputs": [],
   "source": [
    "fname = './archive-Fall2019/2019-08-31.json'"
   ]
  },
  {
   "cell_type": "code",
   "execution_count": 6,
   "metadata": {},
   "outputs": [],
   "source": [
    "courses = json.load(open(fname))"
   ]
  },
  {
   "cell_type": "code",
   "execution_count": 8,
   "metadata": {},
   "outputs": [
    {
     "data": {
      "text/plain": [
       "[{'number': '001',\n",
       "  'Call Number': 53898,\n",
       "  'Points': 3,\n",
       "  'Day/Time': 'TR 1:10pm-2:25pm',\n",
       "  'Location': 'To be announced',\n",
       "  'Enrollment': '49 students (60 max) as of August 31, 2019',\n",
       "  'Instructor': 'Cathy Popkin',\n",
       "  'course': 'LITERATURE & EMPIRE (19C LIT)',\n",
       "  'courseNumber': 'UN3220',\n",
       "  'subject': 'RUSS'}]"
      ]
     },
     "execution_count": 8,
     "metadata": {},
     "output_type": "execute_result"
    }
   ],
   "source": [
    "[c for c in courses if c['Call Number'] == 53898]"
   ]
  }
 ],
 "metadata": {
  "kernelspec": {
   "display_name": "Python 3",
   "language": "python",
   "name": "python3"
  },
  "language_info": {
   "codemirror_mode": {
    "name": "ipython",
    "version": 3
   },
   "file_extension": ".py",
   "mimetype": "text/x-python",
   "name": "python",
   "nbconvert_exporter": "python",
   "pygments_lexer": "ipython3",
   "version": "3.7.0"
  }
 },
 "nbformat": 4,
 "nbformat_minor": 2
}
