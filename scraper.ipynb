{
 "cells": [
  {
   "cell_type": "code",
   "execution_count": 19,
   "metadata": {},
   "outputs": [],
   "source": [
    "from collections import defaultdict\n",
    "from bs4 import BeautifulSoup, Tag\n",
    "import pandas as pd\n",
    "import requests\n",
    "import re\n",
    "\n",
    "BASE_URL = 'http://www.columbia.edu'"
   ]
  },
  {
   "cell_type": "code",
   "execution_count": 2,
   "metadata": {},
   "outputs": [],
   "source": [
    "def subjUrl(letter):\n",
    "    return BASE_URL + '/cu/bulletin/uwb/sel/subj-{}.html'.format(letter)\n",
    "\n",
    "def getSubjects(letter):\n",
    "    r = requests.get(subjUrl(letter))\n",
    "    r.raise_for_status()\n",
    "    soup = BeautifulSoup(r.text, 'lxml')\n",
    "    table = soup.table\n",
    "    rows = table.find_all('tr')[3:-2]\n",
    "    return rows"
   ]
  },
  {
   "cell_type": "code",
   "execution_count": 3,
   "metadata": {},
   "outputs": [],
   "source": [
    "paths = []\n",
    "for c in range(65, 91):\n",
    "    rows = getSubjects(chr(c))\n",
    "    for row in rows:\n",
    "        href = row.a['href']\n",
    "        if 'subj/AU' in href: # auditing\n",
    "            break\n",
    "        if '__' in href: # seemingly invalid subjects\n",
    "            continue\n",
    "        paths.append(href)"
   ]
  },
  {
   "cell_type": "code",
   "execution_count": 32,
   "metadata": {},
   "outputs": [
    {
     "name": "stdout",
     "output_type": "stream",
     "text": [
      "/cu/bulletin/uwb/subj/ACCT/_Spring2019.html\n",
      "{'number': 200, 'Call Number': '19291', 'Points': '3', 'Enrollment': '41 students as of February 23, 2019', 'Instructors': 'Amir Ziv and Felicia C Goodman'}\n",
      "{'number': 1, 'Call Number': '62180', 'Points': '3', 'Day/Time': 'MW 2:15pm-3:45pm', 'Location': '141 Uris Hall', 'Enrollment': '62 students as of February 23, 2019', 'Instructor': 'Urooj Khan'}\n",
      "{'number': 2, 'Call Number': '72707', 'Points': '3', 'Day/Time': 'MW 10:45am-12:15pm', 'Location': '141 Uris Hall', 'Enrollment': '63 students as of February 23, 2019'}\n",
      "{'number': 3, 'Call Number': '63796', 'Points': '3', 'Day/Time': 'MW 9:00am-10:30am', 'Location': '141 Uris Hall', 'Enrollment': '67 students as of February 23, 2019'}\n",
      "{'number': 1, 'Call Number': '11109', 'Points': '3', 'Enrollment': '14 students as of February 23, 2019', 'Instructors': 'Doron Nissim and Felicia C Goodman'}\n",
      "{'number': 1, 'Call Number': '71057', 'Points': '3', 'Enrollment': '25 students as of February 23, 2019', 'Instructor': 'Shivaram Rajgopal'}\n",
      "{'number': 1, 'Call Number': '61728', 'Points': '1.5', 'Day/Time': 'MW 9:00am-10:30am', 'Location': '326 Uris Hall', 'Enrollment': '41 students as of February 23, 2019', 'Instructor': 'Tim Baldenius'}\n",
      "{'number': 2, 'Call Number': '18387', 'Points': '1.5', 'Day/Time': 'MW 10:45am-12:15pm', 'Location': '326 Uris Hall', 'Enrollment': '34 students as of February 23, 2019', 'Instructor': 'Tim Baldenius'}\n",
      "{'number': 3, 'Call Number': '69424', 'Points': '1.5', 'Day/Time': 'MW 12:30pm-2:00pm', 'Location': '326 Uris Hall', 'Enrollment': '42 students as of February 23, 2019', 'Instructor': 'Tim Baldenius'}\n",
      "{'number': 1, 'Call Number': '26082', 'Points': '3', 'Day/Time': 'MW 9:00am-10:30am', 'Location': '142 Uris Hall', 'Enrollment': '59 students as of February 23, 2019', 'Instructor': 'Doron Nissim'}\n",
      "{'number': 2, 'Call Number': '60512', 'Points': '3', 'Day/Time': 'MW 10:45am-12:15pm', 'Location': '142 Uris Hall', 'Enrollment': '56 students as of February 23, 2019', 'Instructor': 'Doron Nissim'}\n",
      "{'number': 1, 'Call Number': '17171', 'Points': '3', 'Day/Time': 'MW 12:30pm-2:00pm', 'Location': '303 Uris Hall', 'Enrollment': '49 students as of February 23, 2019'}\n",
      "{'number': 2, 'Call Number': '77119', 'Points': '3', 'Day/Time': 'MW 2:15pm-3:45pm', 'Location': '303 Uris Hall', 'Enrollment': '44 students as of February 23, 2019'}\n",
      "{'number': 1, 'Call Number': '68208', 'Points': '3', 'Day/Time': 'R 9:00am-12:15pm', 'Location': '140 Uris Hall', 'Enrollment': '48 students as of February 23, 2019', 'Instructor': 'Shivaram Rajgopal'}\n",
      "{'number': 1, 'Call Number': '15955', 'Points': '3', 'Day/Time': 'M 9:00am-12:15pm', 'Location': '307 Uris Hall', 'Enrollment': '36 students as of February 23, 2019', 'Instructor': 'Anne Heinrichs'}\n",
      "{'number': 2, 'Call Number': '75903', 'Points': '3', 'Day/Time': 'M 12:30pm-3:45pm', 'Location': '307 Uris Hall', 'Enrollment': '30 students as of February 23, 2019', 'Instructor': 'Anne Heinrichs'}\n",
      "{'number': 1, 'Call Number': '66992', 'Points': '3', 'Day/Time': 'M 10:45am-2:00pm', 'Location': '333 Uris Hall', 'Enrollment': '37 students as of February 23, 2019', 'Instructor': 'Stephen H Penman'}\n",
      "{'number': 2, 'Call Number': '23650', 'Points': '3', 'Day/Time': 'W 10:45am-2:00pm', 'Location': '332 Uris Hall', 'Enrollment': '45 students as of February 23, 2019', 'Instructor': 'Stephen H Penman'}\n",
      "{'number': 1, 'Call Number': '20002', 'Points': '3', 'Day/Time': 'MW 2:15pm-5:30pm', 'Location': '333 Uris Hall', 'Enrollment': '49 students as of February 23, 2019', 'Instructor': 'Tim Baldenius'}\n",
      "{'number': 1, 'Call Number': '17465', 'Points': '3', 'Day/Time': 'MF 2:15pm-5:30pm', 'Location': '328 Uris Hall', 'Enrollment': '6 students as of February 23, 2019', 'Instructor': 'Jonathan Glover'}\n",
      "{'number': 1, 'Call Number': '77413', 'Points': '3', 'Day/Time': 'R 2:15pm-5:30pm', 'Location': '329 Uris Hall', 'Enrollment': '24 students as of February 23, 2019', 'Instructor': 'Doron Nissim'}\n"
     ]
    }
   ],
   "source": [
    "p = paths[0]\n",
    "r = requests.get(BASE_URL + p)\n",
    "r.raise_for_status()\n",
    "soup = BeautifulSoup(r.text, 'lxml')\n",
    "print(p)\n",
    "course = None\n",
    "courses = defaultdict(list)\n",
    "for tr in soup.table.find_all('tr')[2:-1]:\n",
    "    if tr.td.get('colspan') is not None:        \n",
    "        course = tr.td.b.contents[-1]\n",
    "        continue\n",
    "    contents = tr.contents\n",
    "    components = contents[2].contents\n",
    "    section = {\n",
    "         'number': int(contents[0].a.string.replace('Section ', '')),\n",
    "    }\n",
    "    header = None\n",
    "    for component in components:\n",
    "        if header is not None:\n",
    "            section[header] = component.strip()\n",
    "            header = None\n",
    "        if isinstance(component, Tag) and component.name == 'b':\n",
    "            header = component.string.replace(':', '').strip()\n",
    "    print(section)\n",
    "    courses[course].append(section)"
   ]
  }
 ],
 "metadata": {
  "kernelspec": {
   "display_name": "Python 3",
   "language": "python",
   "name": "python3"
  },
  "language_info": {
   "codemirror_mode": {
    "name": "ipython",
    "version": 3
   },
   "file_extension": ".py",
   "mimetype": "text/x-python",
   "name": "python",
   "nbconvert_exporter": "python",
   "pygments_lexer": "ipython3",
   "version": "3.7.0"
  }
 },
 "nbformat": 4,
 "nbformat_minor": 2
}
