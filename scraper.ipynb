{
 "cells": [
  {
   "cell_type": "code",
   "execution_count": 55,
   "metadata": {},
   "outputs": [],
   "source": [
    "from collections import defaultdict\n",
    "from bs4 import BeautifulSoup\n",
    "import pandas as pd\n",
    "import requests\n",
    "import re\n",
    "\n",
    "BASE_URL = 'http://www.columbia.edu'"
   ]
  },
  {
   "cell_type": "code",
   "execution_count": 18,
   "metadata": {},
   "outputs": [],
   "source": [
    "def subjUrl(letter):\n",
    "    return BASE_URL + '/cu/bulletin/uwb/sel/subj-{}.html'.format(letter)"
   ]
  },
  {
   "cell_type": "code",
   "execution_count": 25,
   "metadata": {},
   "outputs": [],
   "source": [
    "def getSubjects(letter):\n",
    "    r = requests.get(subjUrl(letter))\n",
    "    r.raise_for_status()\n",
    "    soup = BeautifulSoup(r.text, 'lxml')\n",
    "    table = soup.table\n",
    "    rows = table.find_all('tr')[3:-2]\n",
    "    return rows"
   ]
  },
  {
   "cell_type": "code",
   "execution_count": 34,
   "metadata": {},
   "outputs": [],
   "source": [
    "paths = []\n",
    "for c in range(65, 91):\n",
    "    rows = getSubjects(chr(c))\n",
    "    for row in rows:\n",
    "        href = row.a['href']\n",
    "        if 'subj/AU' in href: # auditing\n",
    "            break\n",
    "        if '__' in href: # seemingly invalid subjects\n",
    "            continue\n",
    "        paths.append(href)"
   ]
  },
  {
   "cell_type": "code",
   "execution_count": 54,
   "metadata": {},
   "outputs": [
    {
     "name": "stdout",
     "output_type": "stream",
     "text": [
      "Accounting I: Financial Accoun\n",
      "Accounting I: Financial Accoun\n",
      "Earnings Quality & Fundamental\n",
      "Fundamental Analysis for Inves\n",
      "Financial Planning & Analysis\n",
      "Earnings Quality & Fundamental\n",
      "Financial Statement Analysis a\n",
      "Fundamental Analysis for Inves\n",
      "Corporate Transactions and Fin\n",
      "Accounting for Value\n",
      "Accounting for Consultants\n",
      "(PhD) Accounting & Information\n",
      "Research on Investing with Fun\n"
     ]
    }
   ],
   "source": [
    "p = paths[0]\n",
    "r = requests.get(BASE_URL + p)\n",
    "r.raise_for_status()\n",
    "soup = BeautifulSoup(r.text, 'lxml')\n",
    "\n",
    "course = None\n",
    "courses = defaultdict(list)\n",
    "for tr in soup.table.find_all('tr')[2:-1]:\n",
    "    if tr.td.get('colspan') is not None:        \n",
    "        course = tr.td.b.contents[-1]\n",
    "        continue\n",
    "    section = {\n",
    "         \n",
    "    }\n",
    "    courses[course].append()"
   ]
  }
 ],
 "metadata": {
  "kernelspec": {
   "display_name": "Python 3",
   "language": "python",
   "name": "python3"
  },
  "language_info": {
   "codemirror_mode": {
    "name": "ipython",
    "version": 3
   },
   "file_extension": ".py",
   "mimetype": "text/x-python",
   "name": "python",
   "nbconvert_exporter": "python",
   "pygments_lexer": "ipython3",
   "version": "3.7.0"
  }
 },
 "nbformat": 4,
 "nbformat_minor": 2
}
